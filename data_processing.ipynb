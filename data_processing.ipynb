{
 "cells": [
  {
   "cell_type": "markdown",
   "metadata": {},
   "source": [
    "# Data Processing"
   ]
  },
  {
   "cell_type": "code",
   "execution_count": 1,
   "metadata": {},
   "outputs": [],
   "source": [
    "import pandas as pd\n",
    "from textdistance import jaro_winkler\n",
    "import unicodedata"
   ]
  },
  {
   "cell_type": "code",
   "execution_count": 2,
   "metadata": {},
   "outputs": [
    {
     "name": "stdout",
     "output_type": "stream",
     "text": [
      "Df shape: (9715, 133)\n"
     ]
    },
    {
     "data": {
      "text/html": [
       "<div>\n",
       "<style scoped>\n",
       "    .dataframe tbody tr th:only-of-type {\n",
       "        vertical-align: middle;\n",
       "    }\n",
       "\n",
       "    .dataframe tbody tr th {\n",
       "        vertical-align: top;\n",
       "    }\n",
       "\n",
       "    .dataframe thead th {\n",
       "        text-align: right;\n",
       "    }\n",
       "</style>\n",
       "<table border=\"1\" class=\"dataframe\">\n",
       "  <thead>\n",
       "    <tr style=\"text-align: right;\">\n",
       "      <th></th>\n",
       "      <th>Player</th>\n",
       "      <th>Nation</th>\n",
       "      <th>Pos</th>\n",
       "      <th>Squad</th>\n",
       "      <th>League</th>\n",
       "      <th>Age</th>\n",
       "      <th>Born</th>\n",
       "      <th>90s</th>\n",
       "      <th>Standard_Gls</th>\n",
       "      <th>Standard_Sh</th>\n",
       "      <th>...</th>\n",
       "      <th>Performance_Crs</th>\n",
       "      <th>Performance_Int</th>\n",
       "      <th>Performance_TklW</th>\n",
       "      <th>Performance_PKwon</th>\n",
       "      <th>Performance_PKcon</th>\n",
       "      <th>Performance_OG</th>\n",
       "      <th>Performance_Recov</th>\n",
       "      <th>Aerial_Duels_Won</th>\n",
       "      <th>Aerial_Duels_Lost</th>\n",
       "      <th>Aerial_Duels_Won%</th>\n",
       "    </tr>\n",
       "  </thead>\n",
       "  <tbody>\n",
       "    <tr>\n",
       "      <th>0</th>\n",
       "      <td>Max Aarons</td>\n",
       "      <td>eng ENG</td>\n",
       "      <td>DF</td>\n",
       "      <td>Bournemouth</td>\n",
       "      <td>Premier League</td>\n",
       "      <td>23.0</td>\n",
       "      <td>2000.0</td>\n",
       "      <td>13.7</td>\n",
       "      <td>0.0</td>\n",
       "      <td>2.0</td>\n",
       "      <td>...</td>\n",
       "      <td>13.0</td>\n",
       "      <td>8.0</td>\n",
       "      <td>19.0</td>\n",
       "      <td>0.0</td>\n",
       "      <td>1.0</td>\n",
       "      <td>0.0</td>\n",
       "      <td>75.0</td>\n",
       "      <td>5.0</td>\n",
       "      <td>11.0</td>\n",
       "      <td>31.3</td>\n",
       "    </tr>\n",
       "    <tr>\n",
       "      <th>1</th>\n",
       "      <td>Joshua Acheampong</td>\n",
       "      <td>eng ENG</td>\n",
       "      <td>DF</td>\n",
       "      <td>Chelsea</td>\n",
       "      <td>Premier League</td>\n",
       "      <td>17.0</td>\n",
       "      <td>2006.0</td>\n",
       "      <td>0.1</td>\n",
       "      <td>0.0</td>\n",
       "      <td>0.0</td>\n",
       "      <td>...</td>\n",
       "      <td>0.0</td>\n",
       "      <td>0.0</td>\n",
       "      <td>0.0</td>\n",
       "      <td>0.0</td>\n",
       "      <td>0.0</td>\n",
       "      <td>0.0</td>\n",
       "      <td>1.0</td>\n",
       "      <td>0.0</td>\n",
       "      <td>1.0</td>\n",
       "      <td>0.0</td>\n",
       "    </tr>\n",
       "    <tr>\n",
       "      <th>2</th>\n",
       "      <td>Tyler Adams</td>\n",
       "      <td>us USA</td>\n",
       "      <td>MF</td>\n",
       "      <td>Bournemouth</td>\n",
       "      <td>Premier League</td>\n",
       "      <td>24.0</td>\n",
       "      <td>1999.0</td>\n",
       "      <td>1.3</td>\n",
       "      <td>0.0</td>\n",
       "      <td>0.0</td>\n",
       "      <td>...</td>\n",
       "      <td>1.0</td>\n",
       "      <td>4.0</td>\n",
       "      <td>3.0</td>\n",
       "      <td>0.0</td>\n",
       "      <td>0.0</td>\n",
       "      <td>0.0</td>\n",
       "      <td>7.0</td>\n",
       "      <td>2.0</td>\n",
       "      <td>3.0</td>\n",
       "      <td>40.0</td>\n",
       "    </tr>\n",
       "    <tr>\n",
       "      <th>3</th>\n",
       "      <td>Tosin Adarabioyo</td>\n",
       "      <td>eng ENG</td>\n",
       "      <td>DF</td>\n",
       "      <td>Fulham</td>\n",
       "      <td>Premier League</td>\n",
       "      <td>25.0</td>\n",
       "      <td>1997.0</td>\n",
       "      <td>18.0</td>\n",
       "      <td>2.0</td>\n",
       "      <td>14.0</td>\n",
       "      <td>...</td>\n",
       "      <td>1.0</td>\n",
       "      <td>25.0</td>\n",
       "      <td>11.0</td>\n",
       "      <td>0.0</td>\n",
       "      <td>0.0</td>\n",
       "      <td>0.0</td>\n",
       "      <td>43.0</td>\n",
       "      <td>56.0</td>\n",
       "      <td>28.0</td>\n",
       "      <td>66.7</td>\n",
       "    </tr>\n",
       "    <tr>\n",
       "      <th>4</th>\n",
       "      <td>Elijah Adebayo</td>\n",
       "      <td>eng ENG</td>\n",
       "      <td>FW</td>\n",
       "      <td>Luton Town</td>\n",
       "      <td>Premier League</td>\n",
       "      <td>25.0</td>\n",
       "      <td>1998.0</td>\n",
       "      <td>15.8</td>\n",
       "      <td>10.0</td>\n",
       "      <td>31.0</td>\n",
       "      <td>...</td>\n",
       "      <td>5.0</td>\n",
       "      <td>6.0</td>\n",
       "      <td>1.0</td>\n",
       "      <td>0.0</td>\n",
       "      <td>0.0</td>\n",
       "      <td>0.0</td>\n",
       "      <td>34.0</td>\n",
       "      <td>43.0</td>\n",
       "      <td>43.0</td>\n",
       "      <td>50.0</td>\n",
       "    </tr>\n",
       "  </tbody>\n",
       "</table>\n",
       "<p>5 rows × 133 columns</p>\n",
       "</div>"
      ],
      "text/plain": [
       "              Player   Nation Pos        Squad          League   Age    Born  \\\n",
       "0         Max Aarons  eng ENG  DF  Bournemouth  Premier League  23.0  2000.0   \n",
       "1  Joshua Acheampong  eng ENG  DF      Chelsea  Premier League  17.0  2006.0   \n",
       "2        Tyler Adams   us USA  MF  Bournemouth  Premier League  24.0  1999.0   \n",
       "3   Tosin Adarabioyo  eng ENG  DF       Fulham  Premier League  25.0  1997.0   \n",
       "4     Elijah Adebayo  eng ENG  FW   Luton Town  Premier League  25.0  1998.0   \n",
       "\n",
       "    90s  Standard_Gls  Standard_Sh  ...  Performance_Crs  Performance_Int  \\\n",
       "0  13.7           0.0          2.0  ...             13.0              8.0   \n",
       "1   0.1           0.0          0.0  ...              0.0              0.0   \n",
       "2   1.3           0.0          0.0  ...              1.0              4.0   \n",
       "3  18.0           2.0         14.0  ...              1.0             25.0   \n",
       "4  15.8          10.0         31.0  ...              5.0              6.0   \n",
       "\n",
       "   Performance_TklW  Performance_PKwon  Performance_PKcon  Performance_OG  \\\n",
       "0              19.0                0.0                1.0             0.0   \n",
       "1               0.0                0.0                0.0             0.0   \n",
       "2               3.0                0.0                0.0             0.0   \n",
       "3              11.0                0.0                0.0             0.0   \n",
       "4               1.0                0.0                0.0             0.0   \n",
       "\n",
       "   Performance_Recov  Aerial_Duels_Won  Aerial_Duels_Lost  Aerial_Duels_Won%  \n",
       "0               75.0               5.0               11.0               31.3  \n",
       "1                1.0               0.0                1.0                0.0  \n",
       "2                7.0               2.0                3.0               40.0  \n",
       "3               43.0              56.0               28.0               66.7  \n",
       "4               34.0              43.0               43.0               50.0  \n",
       "\n",
       "[5 rows x 133 columns]"
      ]
     },
     "execution_count": 2,
     "metadata": {},
     "output_type": "execute_result"
    }
   ],
   "source": [
    "df = pd.read_csv('data/FBref/players_stats_FBref.csv')\n",
    "print(f\"Df shape: {df.shape}\")\n",
    "df.head(5)"
   ]
  },
  {
   "cell_type": "markdown",
   "metadata": {},
   "source": [
    "## Basic pre-processing"
   ]
  },
  {
   "cell_type": "markdown",
   "metadata": {},
   "source": [
    "The first thing we need to do is to exclude goalkeepers from the analysis, as they have different features than outfield players."
   ]
  },
  {
   "cell_type": "code",
   "execution_count": 3,
   "metadata": {},
   "outputs": [
    {
     "name": "stdout",
     "output_type": "stream",
     "text": [
      "Df shape: (9025, 133)\n"
     ]
    }
   ],
   "source": [
    "df = df[df['Pos'] != 'GK']\n",
    "print(f\"Df shape: {df.shape}\")"
   ]
  },
  {
   "cell_type": "markdown",
   "metadata": {},
   "source": [
    "The second thing is to keep only \"relevant\" players, where relevant refers to players that have played a reasonable amount of minutes in the league.\n",
    "\n",
    "Let's inspect the distribution of the minutes played by the players in the dataset."
   ]
  },
  {
   "cell_type": "code",
   "execution_count": 4,
   "metadata": {},
   "outputs": [
    {
     "data": {
      "text/plain": [
       "count    9025.000000\n",
       "mean       12.955224\n",
       "std        10.452423\n",
       "min         0.000000\n",
       "25%         3.200000\n",
       "50%        11.300000\n",
       "75%        21.300000\n",
       "max        46.000000\n",
       "Name: 90s, dtype: float64"
      ]
     },
     "execution_count": 4,
     "metadata": {},
     "output_type": "execute_result"
    }
   ],
   "source": [
    "df['90s'].describe()"
   ]
  },
  {
   "cell_type": "markdown",
   "metadata": {},
   "source": [
    "We can observe how 75% of players have played at least 3 matches, and 50% of players have played at more than 10 matches.\n",
    "\n",
    "A good choice could be to keep only players that have played at least 5 matches in the league.\n",
    "\n",
    "**Note:** \"match\" refers to 90 minutes played (not necessarily a full match), so 3 matches correspond to 450 minutes played, which might be enough to grasp some player's performance."
   ]
  },
  {
   "cell_type": "code",
   "execution_count": 5,
   "metadata": {},
   "outputs": [
    {
     "data": {
      "text/plain": [
       "(6203, 133)"
      ]
     },
     "execution_count": 5,
     "metadata": {},
     "output_type": "execute_result"
    }
   ],
   "source": [
    "df = df[df['90s'] >= 5]\n",
    "df.shape"
   ]
  },
  {
   "cell_type": "markdown",
   "metadata": {},
   "source": [
    "<u>**BIG ASSUMPTION:** we are considering data about the 2023/2024 season, and some players might have moved to another team in winter transfer market. Although we could consider some kind of weighted average, we will consider the same player in different teams as different players (not a problem for the theorethical analysis, but consider such preprocessing step for a practical application!).</u>"
   ]
  },
  {
   "cell_type": "markdown",
   "metadata": {},
   "source": [
    "We now discard some rows which have values not compatible for feature engineering"
   ]
  },
  {
   "cell_type": "code",
   "execution_count": 6,
   "metadata": {},
   "outputs": [],
   "source": [
    "df = df[df['Standard_Sh'] > 0]"
   ]
  },
  {
   "cell_type": "markdown",
   "metadata": {},
   "source": [
    "## Feature Engineering"
   ]
  },
  {
   "cell_type": "markdown",
   "metadata": {},
   "source": [
    "### Shooting \n",
    "\n",
    "Our dataframe contains many shooting variables. Notice that we do not actually need all of them, as some are redundant. For example, `Standard_SoT%` is the same as `Standard_SoT` divided by `Standard_Sh`. Similarly, `Standard_G/Sh` is the same as `Standard_Gls` divided by `Standard_Sh`. Moreover, we should rely on a **per 90** basis, as we want to compare players that played different minutes. For some stats the per 90 is already provided, for others we need to calculate it.\n",
    "\n",
    "Main passages we need to do for shooting:\n",
    "\n",
    "- `Standard_Gls`            ❌ --> `Standard_Gls_P90` 🆕\n",
    "- `Standard_Sh`             ❌\n",
    "- `Standard_SoT`            ❌\n",
    "- `Standard_SoT%`,          ❌ \n",
    "- `Standard_Sh/90`          ✅\n",
    "- `Standard_SoT/90`         ✅  \n",
    "- `Standard_G/Sh`           ❌ \n",
    "- `Standard_G/SoT`,         ❌ \n",
    "- `Standard_Dist`           ✅\n",
    "- `Standard_FK`             ❌ --> `FK/Sh` 🆕\n",
    "- `Standard_PK`,            ❌ --> Not interesting\n",
    "- `Standard_PKatt`,         ❌ --> Not interesting\n",
    "- `Standard_Pk/Pkatt`,      🆕 I would have Nan for the majority of players, so not interesting for the analysis\n",
    "- `Expected_xG`,            ❌ --> `Expected_xG_P90` 🆕\n",
    "- `Expected_npxG`           ❌ --> `Expected_npxG_P90`  🆕\n",
    "- `Expected_npxG/Sh`        ❌\n",
    "- `Expected_G-xG`           ❌\n",
    "- `Expected_np:G-xG`        ❌"
   ]
  },
  {
   "cell_type": "code",
   "execution_count": 7,
   "metadata": {},
   "outputs": [],
   "source": [
    "SHOOTING_VARS = [\n",
    "    'Player','Nation','Pos','Squad','League','Age','Born','90s',\t\n",
    "    'Standard_Gls', 'Standard_Sh', 'Standard_SoT','Standard_SoT%',\n",
    "    'Standard_Sh/90', 'Standard_SoT/90', 'Standard_G/Sh','Standard_G/SoT',\n",
    "    'Standard_Dist', 'Standard_FK', 'Standard_PK','Standard_PKatt', \n",
    "    'Expected_xG', 'Expected_npxG', 'Expected_npxG/Sh',\n",
    "    'Expected_G-xG', 'Expected_np:G-xG']"
   ]
  },
  {
   "cell_type": "code",
   "execution_count": 8,
   "metadata": {},
   "outputs": [],
   "source": [
    "shooting_df = df[SHOOTING_VARS].copy()\n",
    "shooting_df['Standard_Gls/90'] = shooting_df['Standard_Gls'] / shooting_df['90s']\n",
    "shooting_df['Expected_xG/90'] = shooting_df['Expected_xG'] / shooting_df['90s']\n",
    "shooting_df['Expected_npxG/90'] = shooting_df['Expected_npxG'] / shooting_df['90s']\n",
    "shooting_df['Expected_npxG/90'] = shooting_df['Expected_npxG'] / shooting_df['90s']\n",
    "shooting_df['Standard_FK/Sh'] = shooting_df['Standard_FK'] / shooting_df['Standard_Sh']\n",
    "\n",
    "shooting_df = shooting_df.drop(columns=[\n",
    "    'Standard_Gls', 'Standard_Sh', 'Standard_SoT','Standard_SoT%','Standard_G/Sh','Standard_G/SoT', 'Standard_FK', 'Standard_PK', 'Standard_PKatt', 'Expected_xG', 'Expected_npxG', 'Expected_npxG/Sh', 'Expected_G-xG', 'Expected_np:G-xG'])"
   ]
  },
  {
   "cell_type": "code",
   "execution_count": 9,
   "metadata": {},
   "outputs": [
    {
     "data": {
      "text/plain": [
       "(6158, 15)"
      ]
     },
     "execution_count": 9,
     "metadata": {},
     "output_type": "execute_result"
    }
   ],
   "source": [
    "shooting_df.shape"
   ]
  },
  {
   "cell_type": "markdown",
   "metadata": {},
   "source": [
    "### Passing"
   ]
  },
  {
   "cell_type": "markdown",
   "metadata": {},
   "source": [
    "Following the same logic explained above, we need to do:\n",
    "\n",
    "- `Total_Cmp` ❌ --> `Total_Cmp_P90` 🆕\n",
    "- `Total_Att`  ❌ -->`Total_Att_P90`  🆕\n",
    "- `Total_Cmp%`❌\n",
    "- `Total_TotDist`❌ --> `Total_TotDist / Total_Cmp`🆕\n",
    "- `Total_PrgDist`❌ --> `Total_PrgDist / Total_Cmp`🆕\n",
    "- `Short_Cmp` ❌ --> `Short_Cmp_P90` 🆕\n",
    "- `Short_Att` ❌ --> `Short_Att_P90` 🆕\n",
    "- `Short_Cmp%` ❌\n",
    "- `Medium_Cmp` ❌ --> `Medium_Cmp_P90` 🆕\n",
    "- `Medium_Att` ❌ --> `Medium_Att_P90` 🆕\n",
    "- `Medium_Cmp%` ❌\n",
    "- `Long_Cmp` ❌ --> `Long_Cmp_P90` 🆕\n",
    "- `Long_Att` ❌ --> `Long_Att_P90` 🆕\n",
    "- `Long_Cmp%` ❌\n",
    "- `Ast` ❌ --> `Ast_P90` 🆕\n",
    "- `xAG` ❌ --> `xAG_P90` 🆕\n",
    "- `Expected_xA` ❌ --> `Expected_xA_P90` 🆕\n",
    "- `Expected_A-xAG` ✅ does not even need to be converted into P90 in my opinion\n",
    "- `KP` ❌ --> `KP_P90` 🆕\n",
    "- `1/3` ❌ --> `1/3_P90` 🆕\n",
    "- `PPA` ❌ --> `PPA_P90` 🆕\n",
    "- `CrsPA` ❌ --> `CrsPA_P90` 🆕\n",
    "- `PrgP` ❌ --> `PrgP_P90` 🆕\n"
   ]
  },
  {
   "cell_type": "markdown",
   "metadata": {},
   "source": [
    "Let's see if there are players with 0 passes (pretty unlikely, but let's check it out)."
   ]
  },
  {
   "cell_type": "code",
   "execution_count": 10,
   "metadata": {},
   "outputs": [
    {
     "name": "stdout",
     "output_type": "stream",
     "text": [
      "Players with 0 Attempted passages: are 0\n"
     ]
    }
   ],
   "source": [
    "print(f\"Players with 0 Attempted passages: are {(df['Total_Att'] == 0).sum()}\")"
   ]
  },
  {
   "cell_type": "code",
   "execution_count": 11,
   "metadata": {},
   "outputs": [],
   "source": [
    "PASSING_VARS = [\n",
    "    'Player','Nation','Pos','Squad','League','Age','Born','90s',\n",
    "    'Total_Cmp', 'Total_Att', 'Total_Cmp%', 'Total_TotDist',\n",
    "    'Total_PrgDist', 'Short_Cmp', 'Short_Att', 'Short_Cmp%', 'Medium_Cmp',\n",
    "    'Medium_Att', 'Medium_Cmp%', 'Long_Cmp', 'Long_Att', 'Long_Cmp%', 'Ast',\n",
    "    'xAG', 'Expected_xA', 'Expected_A-xAG', 'KP', '1/3', 'PPA', 'CrsPA','PrgP']"
   ]
  },
  {
   "cell_type": "code",
   "execution_count": 12,
   "metadata": {},
   "outputs": [],
   "source": [
    "passing_df = df[PASSING_VARS].copy()\n",
    "\n",
    "passing_df['Total_Cmp/90'] = passing_df['Total_Cmp'] / passing_df['90s']\n",
    "passing_df['Total_Att/90'] = passing_df['Total_Att'] / passing_df['90s']\n",
    "passing_df['Average_TotDist'] = passing_df['Total_TotDist'] / passing_df['Total_Cmp']\n",
    "passing_df['Average_PrgDist'] = passing_df['Total_PrgDist'] / passing_df['Total_Cmp']\n",
    "passing_df['Short_Cmp/90'] = passing_df['Short_Cmp'] / passing_df['90s']\n",
    "passing_df['Short_Att/90'] = passing_df['Short_Att'] / passing_df['90s']\n",
    "passing_df['Medium_Cmp/90'] = passing_df['Medium_Cmp'] / passing_df['90s']\n",
    "passing_df['Medium_Att/90'] = passing_df['Medium_Att'] / passing_df['90s']\n",
    "passing_df['Long_Cmp/90'] = passing_df['Long_Cmp'] / passing_df['90s']\n",
    "passing_df['Long_Att/90'] = passing_df['Long_Att'] / passing_df['90s']\n",
    "passing_df['Ast/90'] = passing_df['Ast'] / passing_df['90s']\n",
    "passing_df['xAG/90'] = passing_df['xAG'] / passing_df['90s']\n",
    "passing_df['Expected_xA/90'] = passing_df['Expected_xA'] / passing_df['90s']\n",
    "passing_df['KP/90'] = passing_df['KP'] / passing_df['90s']\n",
    "passing_df['1/3/90'] = passing_df['1/3'] / passing_df['90s']\n",
    "passing_df['PPA/90'] = passing_df['PPA'] / passing_df['90s']\n",
    "passing_df['CrsPA/90'] = passing_df['CrsPA'] / passing_df['90s']\n",
    "passing_df['PrgP/90'] = passing_df['PrgP'] / passing_df['90s']\n",
    "\n",
    "\n",
    "passing_df.drop(columns=['Total_Cmp', 'Total_Att', 'Total_TotDist', 'Total_PrgDist', \n",
    "                         'Short_Cmp', 'Short_Att', 'Short_Cmp%', 'Medium_Cmp', 'Medium_Att', 'Medium_Cmp%', \n",
    "                         'Long_Cmp', 'Long_Att', 'Long_Cmp%', 'Ast', \n",
    "                         'xAG', 'Expected_xA', 'KP', '1/3', 'PPA', 'CrsPA', 'PrgP'], inplace=True)"
   ]
  },
  {
   "cell_type": "code",
   "execution_count": 13,
   "metadata": {},
   "outputs": [
    {
     "data": {
      "text/plain": [
       "Index(['Player', 'Nation', 'Pos', 'Squad', 'League', 'Age', 'Born', '90s',\n",
       "       'Total_Cmp%', 'Expected_A-xAG', 'Total_Cmp/90', 'Total_Att/90',\n",
       "       'Average_TotDist', 'Average_PrgDist', 'Short_Cmp/90', 'Short_Att/90',\n",
       "       'Medium_Cmp/90', 'Medium_Att/90', 'Long_Cmp/90', 'Long_Att/90',\n",
       "       'Ast/90', 'xAG/90', 'Expected_xA/90', 'KP/90', '1/3/90', 'PPA/90',\n",
       "       'CrsPA/90', 'PrgP/90'],\n",
       "      dtype='object')"
      ]
     },
     "execution_count": 13,
     "metadata": {},
     "output_type": "execute_result"
    }
   ],
   "source": [
    "passing_df.columns"
   ]
  },
  {
   "cell_type": "markdown",
   "metadata": {},
   "source": [
    "### Pass types\n",
    "\n",
    "- `Pass_Types_Live` ❌ --> `Pass_Types_Live_P90` 🆕\n",
    "- `Pass_Types_Dead` ❌ --> `Pass_Types_Dead_P90` 🆕\n",
    "- `Pass_Types_FK` ❌ --> `Pass_Types_FK_P90` 🆕\n",
    "- `Pass_Types_TB` ❌ --> `Pass_Types_TB_P90` 🆕\n",
    "- `Pass_Types_Sw` ❌ --> `Pass_Types_Sw_P90` 🆕\n",
    "- `Pass_Types_Crs` ❌ --> `Pass_Types_Crs_P90` 🆕\n",
    "- `Pass_Types_TI` ❌ --> `Pass_Types_TI_P90` 🆕\n",
    "- `Pass_Types_CK` ❌ --> Not interesting in our opinion\n",
    "- `Corner_Kicks_In` ❌ --> Not interesting in our opinion\n",
    "- `Corner_Kicks_Out` ❌ --> Not interesting in our opinion \n",
    "- `Corner_Kicks_Str` ❌ --> Not interesting in our opinion\n",
    "- `Outcomes_Cmp` ❌ --> `Outcomes_Cmp_P90` 🆕\n",
    "- `Outcomes_Off` ❌ --> `Outcomes_Off_P90` 🆕\n",
    "- `Outcomes_Blocks`--> `Outcomes_Blocks_P90` 🆕"
   ]
  },
  {
   "cell_type": "code",
   "execution_count": 14,
   "metadata": {},
   "outputs": [],
   "source": [
    "PASS_TYPES_VARS = [\n",
    "    'Player','Nation','Pos','Squad','League','Age','Born','90s',\n",
    "    'Pass_Types_Live', 'Pass_Types_Dead', 'Pass_Types_FK', 'Pass_Types_TB',\n",
    "    'Pass_Types_Sw', 'Pass_Types_Crs', 'Pass_Types_CK', 'Pass_Types_TI',\n",
    "    'Corner_Kicks_In', 'Corner_Kicks_Out', 'Corner_Kicks_Str',\n",
    "    'Outcomes_Cmp', 'Outcomes_Off', 'Outcomes_Blocks'\n",
    "    ]"
   ]
  },
  {
   "cell_type": "code",
   "execution_count": 15,
   "metadata": {},
   "outputs": [],
   "source": [
    "pass_types_df = df[PASS_TYPES_VARS].copy()\n",
    "\n",
    "pass_types_df['Pass_Types_Live/90'] = pass_types_df['Pass_Types_Live'] / pass_types_df['90s']\n",
    "pass_types_df['Pass_Types_Dead/90'] = pass_types_df['Pass_Types_Dead'] / pass_types_df['90s']\n",
    "pass_types_df['Pass_Types_FK/90'] = pass_types_df['Pass_Types_FK'] / pass_types_df['90s']\n",
    "pass_types_df['Pass_Types_TB/90'] = pass_types_df['Pass_Types_TB'] / pass_types_df['90s']\n",
    "pass_types_df['Pass_Types_Sw/90'] = pass_types_df['Pass_Types_Sw'] / pass_types_df['90s']\n",
    "pass_types_df['Pass_Types_Crs/90'] = pass_types_df['Pass_Types_Crs'] / pass_types_df['90s']\n",
    "pass_types_df['Pass_Types_TI/90'] = pass_types_df['Pass_Types_TI'] / pass_types_df['90s']\n",
    "pass_types_df['Outcomes_Cmp/90'] = pass_types_df['Outcomes_Cmp'] / pass_types_df['90s']\n",
    "pass_types_df['Outcomes_Off/Cmp'] = pass_types_df['Outcomes_Off'] / pass_types_df['Outcomes_Cmp']\n",
    "pass_types_df['Outcomes_Blocks/Cmp'] = pass_types_df['Outcomes_Blocks'] / pass_types_df['Outcomes_Cmp']\n",
    "\n",
    "\n",
    "pass_types_df.drop(columns=['Pass_Types_Live', 'Pass_Types_Dead', 'Pass_Types_FK', 'Pass_Types_TB', \n",
    "                            'Pass_Types_Sw', 'Pass_Types_Crs', 'Pass_Types_TI', 'Pass_Types_CK', \n",
    "                            'Outcomes_Cmp', 'Outcomes_Off', 'Outcomes_Blocks',\n",
    "                            'Corner_Kicks_In','Corner_Kicks_Out','Corner_Kicks_Str'], inplace=True)"
   ]
  },
  {
   "cell_type": "code",
   "execution_count": 16,
   "metadata": {},
   "outputs": [
    {
     "data": {
      "text/plain": [
       "(6158, 18)"
      ]
     },
     "execution_count": 16,
     "metadata": {},
     "output_type": "execute_result"
    }
   ],
   "source": [
    "pass_types_df.shape"
   ]
  },
  {
   "cell_type": "markdown",
   "metadata": {},
   "source": [
    "### Goal and shot creation\n",
    "\n",
    "- `SCA_SCA` ❌ \n",
    "- `SCA_SCA90`'✅\n",
    "- `SCA_Types_PassLive` ❌ --> `SCA_Types_PassLive_P90` 🆕\n",
    "- `SCA_Types_PassDead` ❌ --> `SCA_Types_PassDead_P90` 🆕\n",
    "- `SCA_Types_TO` ❌ --> `SCA_Types_TO_P90` 🆕\n",
    "- `SCA_Types_Sh` ❌ --> `SCA_Types_Sh_P90` 🆕\n",
    "- `SCA_Types_Fld` ❌ --> `SCA_Types_Fld_P90` 🆕\n",
    "- `SCA_Types_Def` ❌ --> `SCA_Types_Def_P90` 🆕\n",
    "- `GCA_GCA` ❌ \n",
    "- `GCA_GCA90` ✅\n",
    "- `GCA_Types_PassLive` ❌ --> `GCA_Types_PassLive%` 🆕\n",
    "- `GCA_Types_PassDead` ❌ --> `GCA_Types_PassDead%` 🆕\n",
    "- `GCA_Types_TO` ❌ --> `GCA_Types_TO_P90` 🆕\n",
    "- `GCA_Types_Sh` ❌ --> `GCA_Types_Sh_P90` 🆕\n",
    "- `GCA_Types_Fld` ❌ --> `GCA_Types_Fld_P90` 🆕\n",
    "- `GCA_Types_Def` ❌ --> `GCA_Types_Def_P90` 🆕"
   ]
  },
  {
   "cell_type": "code",
   "execution_count": 17,
   "metadata": {},
   "outputs": [],
   "source": [
    "GCA_VARS = [\n",
    "    'Player','Nation','Pos','Squad','League','Age','Born','90s',\n",
    "    'SCA_SCA', 'SCA_SCA90', 'SCA_Types_PassLive', 'SCA_Types_PassDead',\n",
    "    'SCA_Types_TO', 'SCA_Types_Sh', 'SCA_Types_Fld', 'SCA_Types_Def',\n",
    "    'GCA_GCA', 'GCA_GCA90', 'GCA_Types_PassLive', 'GCA_Types_PassDead',\n",
    "    'GCA_Types_TO', 'GCA_Types_Sh', 'GCA_Types_Fld', 'GCA_Types_Def'\n",
    "    ]"
   ]
  },
  {
   "cell_type": "code",
   "execution_count": 18,
   "metadata": {},
   "outputs": [],
   "source": [
    "gca_df = df[GCA_VARS].copy()\n",
    "\n",
    "gca_df['SCA_Types_PassLive/90'] = gca_df['SCA_Types_PassLive'] / gca_df['90s']\n",
    "gca_df['SCA_Types_PassDead/90'] = gca_df['SCA_Types_PassDead'] / gca_df['90s']\n",
    "gca_df['SCA_Types_TO/90'] = gca_df['SCA_Types_TO'] / gca_df['90s']\n",
    "gca_df['SCA_Types_Sh/90'] = gca_df['SCA_Types_Sh'] / gca_df['90s']\n",
    "gca_df['SCA_Types_Fld/90'] = gca_df['SCA_Types_Fld'] / gca_df['90s']\n",
    "gca_df['SCA_Types_Def/90'] = gca_df['SCA_Types_Def'] / gca_df['90s']\n",
    "gca_df['GCA_Types_PassLive/90'] = gca_df['GCA_Types_PassLive'] / gca_df['90s']\n",
    "gca_df['GCA_Types_PassDead/90'] = gca_df['GCA_Types_PassDead'] / gca_df['90s']\n",
    "gca_df['GCA_Types_TO/90'] = gca_df['GCA_Types_TO'] / gca_df['90s']\n",
    "gca_df['GCA_Types_Sh/90'] = gca_df['GCA_Types_Sh'] / gca_df['90s']\n",
    "gca_df['GCA_Types_Fld/90'] = gca_df['GCA_Types_Fld'] / gca_df['90s']\n",
    "gca_df['GCA_Types_Def/90'] = gca_df['GCA_Types_Def'] / gca_df['90s']\n",
    "\n",
    "\n",
    "gca_df.drop(columns=['SCA_SCA', 'SCA_Types_PassLive', 'SCA_Types_PassDead', 'SCA_Types_TO', 'SCA_Types_Sh', 'SCA_Types_Fld', 'SCA_Types_Def', \n",
    "                    'GCA_GCA', 'GCA_Types_PassLive', 'GCA_Types_PassDead', 'GCA_Types_TO', 'GCA_Types_Sh', 'GCA_Types_Fld', 'GCA_Types_Def'], inplace=True)\n"
   ]
  },
  {
   "cell_type": "code",
   "execution_count": 19,
   "metadata": {},
   "outputs": [
    {
     "data": {
      "text/plain": [
       "(6158, 22)"
      ]
     },
     "execution_count": 19,
     "metadata": {},
     "output_type": "execute_result"
    }
   ],
   "source": [
    "gca_df.shape"
   ]
  },
  {
   "cell_type": "markdown",
   "metadata": {},
   "source": [
    "### Defensive Actions\n",
    "\n",
    "- `Tackles_Tkl` ❌ --> `Tackles_Tkl_P90` 🆕\n",
    "- `Tackles_TklW` ❌ --> `Tackles_TklW_P90` 🆕\n",
    "- `Tackles_Def_3rd` ❌ --> `Tackles_Def_3rd_P90` 🆕\n",
    "- `Tackles_Mid_3rd` ❌ --> `Tackles_Mid_3rd_P90` 🆕\n",
    "- `Tackles_Att_3rd` ❌ --> `Tackles_Att_3rd_P90` 🆕\n",
    "- `Challenges_Tkl` ❌ --> `Challenges_Tkl_P90` 🆕\n",
    "- `Challenges_Att` ❌ --> `Challenges_Att_P90` 🆕\n",
    "- `Challenges_Tkl%` ❌ not available for all players\n",
    "- `Challenges_Lost` ❌ --> `Challenges_Lost_P90` 🆕\n",
    "- `Blocks_Blocks` ❌ --> `Blocks_Blocks_P90` 🆕\n",
    "- `Blocks_Sh` ❌ --> `Blocks_Sh_P90` 🆕\n",
    "- `Blocks_Pass` ❌ --> `Blocks_Pass_P90` 🆕\n",
    "- `Int` ❌ --> `Int_P90` 🆕\n",
    "- `Tkl+Int` ❌ --> Not interesting\n",
    "- `Clr` ❌ --> `Clr_P90` 🆕\n",
    "- `Err` ❌ --> `Err_P90` 🆕"
   ]
  },
  {
   "cell_type": "code",
   "execution_count": 20,
   "metadata": {},
   "outputs": [],
   "source": [
    "DEFENSE_VARS = [\n",
    "    'Player','Nation','Pos','Squad','League','Age','Born','90s',\n",
    "    'Tackles_Tkl', 'Tackles_TklW', 'Tackles_Def_3rd', 'Tackles_Mid_3rd',\n",
    "    'Tackles_Att_3rd', 'Challenges_Tkl', 'Challenges_Att',\n",
    "    'Challenges_Tkl%', 'Challenges_Lost', 'Blocks_Blocks', 'Blocks_Sh',\n",
    "    'Blocks_Pass', 'Int', 'Tkl+Int', 'Clr', 'Err'\n",
    "    ]"
   ]
  },
  {
   "cell_type": "code",
   "execution_count": 21,
   "metadata": {},
   "outputs": [],
   "source": [
    "defense_df = df[DEFENSE_VARS].copy()\n",
    "\n",
    "defense_df['Tackles_Tkl/90']     = defense_df['Tackles_Tkl'] / defense_df['90s']\n",
    "defense_df['Tackles_TklW/90']    = defense_df['Tackles_TklW'] / defense_df['90s']\n",
    "defense_df['Tackles_Def_3rd/90'] = defense_df['Tackles_Def_3rd'] / defense_df['90s']\n",
    "defense_df['Tackles_Mid_3rd/90'] = defense_df['Tackles_Mid_3rd'] / defense_df['90s']\n",
    "defense_df['Tackles_Att_3rd/90'] = defense_df['Tackles_Att_3rd'] / defense_df['90s']\n",
    "defense_df['Challenges_Tkl/90']  = defense_df['Challenges_Tkl'] / defense_df['90s']\n",
    "defense_df['Challenges_Att/90']  = defense_df['Challenges_Att'] / defense_df['90s']\n",
    "defense_df['Challenges_Lost/90']    = defense_df['Challenges_Lost'] / defense_df['Challenges_Att']\n",
    "defense_df['Blocks_Blocks/90']   = defense_df['Blocks_Blocks'] / defense_df['90s']\n",
    "defense_df['Blocks_Sh/90']       = defense_df['Blocks_Sh'] / defense_df['90s']\n",
    "defense_df['Blocks_Pass/90']     = defense_df['Blocks_Pass'] / defense_df['90s']\n",
    "defense_df['Int/90']             = defense_df['Int'] / defense_df['90s']\n",
    "defense_df['Clr/90']             = defense_df['Clr'] / defense_df['90s']\n",
    "defense_df['Err/90']             = defense_df['Err'] / defense_df['90s']\n",
    "\n",
    "\n",
    "defense_df = defense_df.drop(columns=['Tackles_Tkl', 'Tackles_TklW', 'Tackles_Def_3rd', 'Tackles_Mid_3rd', 'Tackles_Att_3rd', \n",
    "                                      'Challenges_Tkl', 'Challenges_Tkl%', 'Challenges_Att', 'Challenges_Lost', \n",
    "                                      'Blocks_Blocks', 'Blocks_Sh', 'Blocks_Pass', \n",
    "                                      'Tkl+Int', 'Int', 'Clr', 'Err'])"
   ]
  },
  {
   "cell_type": "code",
   "execution_count": 22,
   "metadata": {},
   "outputs": [
    {
     "data": {
      "text/plain": [
       "Index(['Player', 'Nation', 'Pos', 'Squad', 'League', 'Age', 'Born', '90s',\n",
       "       'Tackles_Tkl/90', 'Tackles_TklW/90', 'Tackles_Def_3rd/90',\n",
       "       'Tackles_Mid_3rd/90', 'Tackles_Att_3rd/90', 'Challenges_Tkl/90',\n",
       "       'Challenges_Att/90', 'Challenges_Lost/90', 'Blocks_Blocks/90',\n",
       "       'Blocks_Sh/90', 'Blocks_Pass/90', 'Int/90', 'Clr/90', 'Err/90'],\n",
       "      dtype='object')"
      ]
     },
     "execution_count": 22,
     "metadata": {},
     "output_type": "execute_result"
    }
   ],
   "source": [
    "defense_df.columns"
   ]
  },
  {
   "cell_type": "markdown",
   "metadata": {},
   "source": [
    "### Possession\n",
    "\n",
    "- `Touches_Touches` ❌ --> `Touches_Touches_P90` 🆕\n",
    "- `Touches_Def_Pen` ❌ --> `Touches_Def_Pen_P90` 🆕\n",
    "- `Touches_Def_3rd` ❌ --> `Touches_Def_3rd_P90` 🆕\n",
    "- `Touches_Mid_3rd` ❌ --> `Touches_Mid_3rd_P90` 🆕\n",
    "- `Touches_Att_3rd` ❌ --> `Touches_Att_3rd_P90` 🆕\n",
    "- `Touches_Att_Pen` ❌ --> `Touches_Att_Pen_P90` 🆕\n",
    "- `Touches_Live` ❌ --> Equal to `Touches_Touches`\n",
    "- `Take-Ons_Att` ❌ --> `Take-Ons_Att_P90` 🆕\n",
    "- `Take-Ons_Succ` ❌ --> `Take-Ons_Succ_P90` 🆕\n",
    "- `Take-Ons_Succ%` ❌ not available for all players\n",
    "- `Take-Ons_Tkld` ❌ --> `Take-Ons_Tkld_P90` 🆕\n",
    "- `Take-Ons_Tkld%` ❌ not available for all players\n",
    "- `Carries_Carries` ❌ --> `Carries_Carries_P90` 🆕\n",
    "- `Carries_TotDist` ❌ --> `Carries_AverageTotDist` 🆕\n",
    "- `Carries_PrgDist` ❌ --> `Carries_AveragePrgDist` 🆕\n",
    "- `Carries_PrgC` ❌ --> `Carries_PrgC_P90` 🆕\n",
    "- `Carries_1/3` ❌ --> `Carries_1/3_P90` 🆕\n",
    "- `Carries_CPA` ❌ --> `Carries_CPA_P90` 🆕\n",
    "- `Carries_Mis` ❌ --> `Carries_Mis_P90` 🆕\n",
    "- `Carries_Dis` ❌ --> `Carries_Dis_P90` 🆕\n",
    "- `Receiving_Rec` ❌ --> `Receiving_Rec_P90` 🆕\n",
    "- `Receiving_PrgR` ❌ --> `Receiving_PrgR_P90` 🆕"
   ]
  },
  {
   "cell_type": "code",
   "execution_count": 23,
   "metadata": {},
   "outputs": [],
   "source": [
    "POSSESSION_VARS = [\n",
    "    'Player','Nation','Pos','Squad','League','Age','Born','90s',\n",
    "    'Touches_Touches', 'Touches_Def_Pen', 'Touches_Def_3rd',\n",
    "    'Touches_Mid_3rd', 'Touches_Att_3rd', 'Touches_Att_Pen', 'Touches_Live',\n",
    "    'Take-Ons_Att', 'Take-Ons_Succ', 'Take-Ons_Succ%', 'Take-Ons_Tkld',\n",
    "    'Take-Ons_Tkld%', 'Carries_Carries', 'Carries_TotDist',\n",
    "    'Carries_PrgDist', 'Carries_PrgC', 'Carries_1/3', 'Carries_CPA',\n",
    "    'Carries_Mis', 'Carries_Dis', 'Receiving_Rec', 'Receiving_PrgR'\n",
    "    ]"
   ]
  },
  {
   "cell_type": "code",
   "execution_count": 24,
   "metadata": {},
   "outputs": [],
   "source": [
    "possession_df = df[POSSESSION_VARS].copy()\n",
    "\n",
    "possession_df['Touches_Touches/90'] = possession_df['Touches_Touches'] / possession_df['90s']\n",
    "possession_df['Touches_Def_Pen/90'] = possession_df['Touches_Def_Pen'] / possession_df['90s']\n",
    "possession_df['Touches_Def_3rd/90'] = possession_df['Touches_Def_3rd'] / possession_df['90s']\n",
    "possession_df['Touches_Mid_3rd/90'] = possession_df['Touches_Mid_3rd'] / possession_df['90s']\n",
    "possession_df['Touches_Att_3rd/90'] = possession_df['Touches_Att_3rd'] / possession_df['90s']\n",
    "possession_df['Touches_Att_Pen/90'] = possession_df['Touches_Att_Pen'] / possession_df['90s']\n",
    "possession_df['Take-Ons_Att/90'] = possession_df['Take-Ons_Att'] / possession_df['90s']\n",
    "possession_df['Take-Ons_Succ/90'] = possession_df['Take-Ons_Succ'] / possession_df['90s']\n",
    "possession_df['Take-Ons_Tkld/90'] = possession_df['Take-Ons_Tkld'] / possession_df['90s']\n",
    "possession_df['Carries_Carries/90'] = possession_df['Carries_Carries'] / possession_df['90s']\n",
    "possession_df['Carries_AverageTotDist'] = possession_df['Carries_TotDist'] / possession_df['Carries_Carries']\n",
    "possession_df['Carries_AveragePrgDist'] = possession_df['Carries_PrgDist'] / possession_df['Carries_Carries']\n",
    "possession_df['Carries_PrgC/90'] = possession_df['Carries_PrgC'] / possession_df['90s']\n",
    "possession_df['Carries_1/3/90'] = possession_df['Carries_1/3'] / possession_df['90s']\n",
    "possession_df['Carries_CPA/90'] = possession_df['Carries_CPA'] / possession_df['90s']\n",
    "possession_df['Carries_Mis/90'] = possession_df['Carries_Mis'] / possession_df['90s']\n",
    "possession_df['Carries_Dis/90'] = possession_df['Carries_Dis'] / possession_df['90s']\n",
    "possession_df['Receiving_Rec/90'] = possession_df['Receiving_Rec'] / possession_df['90s']\n",
    "possession_df['Receiving_PrgR/90'] = possession_df['Receiving_PrgR'] / possession_df['90s']\n",
    "\n",
    "possession_df.drop(columns=['Touches_Touches', 'Touches_Def_Pen', 'Touches_Def_3rd',\n",
    "    'Touches_Mid_3rd', 'Touches_Att_3rd', 'Touches_Att_Pen', 'Touches_Live',\n",
    "    'Take-Ons_Att','Take-Ons_Succ','Take-Ons_Succ%','Take-Ons_Tkld', 'Take-Ons_Tkld%',\n",
    "    'Carries_Carries', 'Carries_TotDist','Carries_PrgDist', 'Carries_PrgC', 'Carries_1/3', \n",
    "    'Carries_CPA','Carries_Mis', 'Carries_Dis', 'Receiving_Rec', 'Receiving_PrgR'], inplace=True)"
   ]
  },
  {
   "cell_type": "markdown",
   "metadata": {},
   "source": [
    "### Miscellaneous Stats\n",
    "\n",
    "- `Performance_CrdY` ❌ --> `Performance_CrdY_P90` 🆕\n",
    "- `Performance_CrdR` ❌ Not interesting in our opinion\n",
    "- `Performance_2CrdY` ❌ Not interesting in our opinion\n",
    "- `Performance_Fls` ❌ --> `Performance_Fls_P90` 🆕\n",
    "- `Performance_Fld` ❌ --> `Performance_Fld_P90` 🆕\n",
    "- `Performance_Off` ❌ --> `Performance_Off_P90` 🆕\n",
    "- `Performance_Crs` ❌ --> `Performance_Crs_P90` 🆕\n",
    "- `Performance_Int` ❌ --> `Performance_Int_P90` 🆕\n",
    "- `Performance_TklW` ❌ Already considered in defensive actions\n",
    "- `Performance_PKcon` ❌ Not interesting in our opinion\n",
    "- `Performance_OG` ❌ Not interesting in our opinion\n",
    "- `Performance_Recov` ❌ --> `Performance_Recov_P90` 🆕\n",
    "- `Aerial_Duels_Won` ❌ --> `Aerial_Duels_Won_P90` 🆕\n",
    "- `Aerial_Duels_Lost` ❌ --> `Aerial_Duels_Lost_P90` 🆕\n",
    "- `Aerial_Duels_Won%` ❌ Not interesting in our opinion"
   ]
  },
  {
   "cell_type": "code",
   "execution_count": 25,
   "metadata": {},
   "outputs": [],
   "source": [
    "MISC_VARS = [\n",
    "    'Player','Nation','Pos','Squad','League','Age','Born','90s',\n",
    "    'Performance_CrdY','Performance_CrdR', 'Performance_2CrdY', 'Performance_Fls',\n",
    "    'Performance_Fld', 'Performance_Off', 'Performance_Crs',\n",
    "    'Performance_Int', 'Performance_TklW', 'Performance_PKwon',\n",
    "    'Performance_PKcon', 'Performance_OG', 'Performance_Recov',\n",
    "    'Aerial_Duels_Won', 'Aerial_Duels_Lost', 'Aerial_Duels_Won%'\n",
    "    ]"
   ]
  },
  {
   "cell_type": "code",
   "execution_count": 26,
   "metadata": {},
   "outputs": [],
   "source": [
    "misc_df = df[MISC_VARS].copy()\n",
    "\n",
    "misc_df['Performance_CrdY/90'] = misc_df['Performance_CrdY'] / misc_df['90s']\n",
    "misc_df['Performance_Fls/90'] = misc_df['Performance_Fls'] / misc_df['90s']\n",
    "misc_df['Performance_Fld/90'] = misc_df['Performance_Fld'] / misc_df['90s']\n",
    "misc_df['Performance_Off/90'] = misc_df['Performance_Off'] / misc_df['90s']\n",
    "misc_df['Performance_Crs/90'] = misc_df['Performance_Crs'] / misc_df['90s']\n",
    "misc_df['Performance_Int/90'] = misc_df['Performance_Int'] / misc_df['90s']\n",
    "misc_df['Aerial_Duels_Won/90'] = misc_df['Aerial_Duels_Won'] / misc_df['90s']\n",
    "misc_df['Aerial_Duels_Lost/90'] = misc_df['Aerial_Duels_Lost'] / misc_df['90s']\n",
    "\n",
    "misc_df.drop(\n",
    "    columns=[\n",
    "        'Performance_CrdY','Performance_CrdR', 'Performance_2CrdY', 'Performance_Fls',\n",
    "        'Performance_Fld', 'Performance_Off', 'Performance_Crs',\n",
    "        'Performance_Int', 'Performance_TklW', 'Performance_PKwon',\n",
    "        'Performance_PKcon', 'Performance_OG', 'Performance_Recov',\n",
    "        'Aerial_Duels_Won', 'Aerial_Duels_Lost', 'Aerial_Duels_Won%'\n",
    "        ],\n",
    "    inplace=True\n",
    "    )"
   ]
  },
  {
   "cell_type": "markdown",
   "metadata": {},
   "source": [
    "---"
   ]
  },
  {
   "cell_type": "code",
   "execution_count": 27,
   "metadata": {},
   "outputs": [
    {
     "data": {
      "text/plain": [
       "(6158, 100)"
      ]
     },
     "execution_count": 27,
     "metadata": {},
     "output_type": "execute_result"
    }
   ],
   "source": [
    "processed_df = shooting_df.merge(passing_df,on=['Player', 'Nation', 'Pos', 'Squad', 'League','Age', 'Born', '90s'],how='inner')\\\n",
    "    .merge(pass_types_df,on=['Player', 'Nation', 'Pos', 'Squad', 'League','Age', 'Born', '90s'],how='inner')\\\n",
    "    .merge(gca_df,on=['Player', 'Nation', 'Pos', 'Squad', 'League', 'Age', 'Born', '90s'],how='inner')\\\n",
    "    .merge(defense_df,on=['Player', 'Nation', 'Pos', 'Squad', 'League', 'Age', 'Born', '90s'],how='inner')\\\n",
    "    .merge(possession_df,on=['Player', 'Nation', 'Pos', 'Squad', 'League', 'Age', 'Born', '90s'],how='inner')\\\n",
    "    .merge(misc_df,on=['Player', 'Nation', 'Pos', 'Squad', 'League', 'Age', 'Born', '90s'],how='inner')\n",
    "\n",
    "    \n",
    "processed_df.shape"
   ]
  },
  {
   "cell_type": "code",
   "execution_count": 28,
   "metadata": {},
   "outputs": [],
   "source": [
    "processed_df = processed_df.dropna()"
   ]
  },
  {
   "cell_type": "code",
   "execution_count": 29,
   "metadata": {},
   "outputs": [
    {
     "data": {
      "text/plain": [
       "(6152, 100)"
      ]
     },
     "execution_count": 29,
     "metadata": {},
     "output_type": "execute_result"
    }
   ],
   "source": [
    "processed_df.shape"
   ]
  },
  {
   "cell_type": "markdown",
   "metadata": {},
   "source": [
    "## Merging data sources"
   ]
  },
  {
   "cell_type": "markdown",
   "metadata": {},
   "source": [
    "### Integrating `Fbref` with `Transfermarkt`"
   ]
  },
  {
   "cell_type": "code",
   "execution_count": 30,
   "metadata": {},
   "outputs": [],
   "source": [
    "LEAGUES = [\n",
    "    'Premier League',          \n",
    "    'Championship',                 \n",
    "    'Serie A',\n",
    "    'Serie B',\n",
    "    'La Liga',\n",
    "    'La Liga 2',\n",
    "    'Bundesliga',\n",
    "    'Bundesliga 2',\n",
    "    'Ligue 1',\n",
    "    'Ligue 2',\n",
    "    'Eredivisie',\n",
    "    'Belgian Pro League',\n",
    "    'Primeira Liga',\n",
    "    'Major League Soccer',\n",
    "    'Liga MX',\n",
    "    'Campeonato Brasileiro Série A' \n",
    "]\n",
    "\n",
    "SEASON = 2023\n",
    "NAME_MATCH_THRESHOLD = 0.9"
   ]
  },
  {
   "cell_type": "code",
   "execution_count": 31,
   "metadata": {},
   "outputs": [],
   "source": [
    "def normalize_text(text):\n",
    "    text = unicodedata.normalize('NFKD', text).encode('ASCII', 'ignore').decode('utf-8')\n",
    "    text = text.replace('-', ' ')\n",
    "    text = text.replace(' ', '')\n",
    "    text = text.replace(\"'\",'')\n",
    "    return text.lower()\n",
    "    \n",
    "def find_best_match(row, candidates, threshold=0.9):\n",
    "    similarities = candidates.apply(lambda x: jaro_winkler(row, x))\n",
    "    max_sim = similarities.max()\n",
    "    best_match = candidates[similarities.idxmax()] if max_sim >= threshold else None\n",
    "    return best_match if isinstance(best_match, str) else None"
   ]
  },
  {
   "cell_type": "code",
   "execution_count": 32,
   "metadata": {},
   "outputs": [],
   "source": [
    "league= LEAGUES[0]\n",
    "\n",
    "# 1) Fbref dataset\n",
    "fbref_data = processed_df.copy()\n",
    "# 2) Transfermarkt dataset\n",
    "tm_data = pd.read_csv(f'data/Transfermarkt/players_bio_tm.csv')\n",
    "tm_data = tm_data[tm_data['Pos']!='Goalkeeper']\n",
    "tm_data.dropna(inplace=True)\n",
    "\n",
    "# 3) Get Normalized player name\n",
    "fbref_data['NormalizedPlayer']  = fbref_data['Player'].apply(lambda text : normalize_text(text))\n",
    "tm_data['NormalizedPlayer']     = tm_data['Player'].apply(lambda text : normalize_text(text))\n",
    "\n",
    "fbref_data['matched_key'] = None\n",
    "\n",
    "\n",
    "for league in LEAGUES:\n",
    "    # 1) Filter tm data for current league\n",
    "    tm_data_league = tm_data[tm_data['League']==league].copy()\n",
    "    # 2) Match Player names\n",
    "    fbref_data.loc[fbref_data['League'] == league, 'matched_key'] = \\\n",
    "        fbref_data.loc[fbref_data['League'] == league, ['NormalizedPlayer','Born']].apply(\n",
    "            lambda player: find_best_match(player.values[0], tm_data_league.loc[tm_data_league['BirthYear']==player.values[1],'NormalizedPlayer'], threshold=NAME_MATCH_THRESHOLD), \n",
    "            axis=1,\n",
    "        )"
   ]
  },
  {
   "cell_type": "code",
   "execution_count": 33,
   "metadata": {},
   "outputs": [
    {
     "name": "stdout",
     "output_type": "stream",
     "text": [
      "Total unmatched players with treshold 90.0% --> 505 out of 6152\n"
     ]
    }
   ],
   "source": [
    "# look for unmatched players\n",
    "na_df = fbref_data.loc[(fbref_data['League'].isin(LEAGUES)) & (fbref_data['matched_key'].isna()),['Player','League','Squad']]\n",
    "print(f'Total unmatched players with treshold {NAME_MATCH_THRESHOLD*100}% --> {na_df.shape[0]} out of {len(fbref_data.loc[(fbref_data['League'].isin(LEAGUES))])}')\n",
    "fbref_data.dropna(subset=['matched_key'],inplace=True)"
   ]
  },
  {
   "cell_type": "code",
   "execution_count": 34,
   "metadata": {},
   "outputs": [],
   "source": [
    "fbref_data['external_key'] = fbref_data['matched_key'].values + ' ' + fbref_data['League'].values + ' ' + fbref_data['Born'].astype(str).values\n",
    "tm_data['external_key'] = tm_data['NormalizedPlayer'].values + ' ' + tm_data['League'].values + ' ' + tm_data['BirthYear'].astype(str).values\n",
    "# Don't consider duplicated keys in tm dataframe\n",
    "tm_data = tm_data.loc[~tm_data['external_key'].duplicated(keep=False),:]"
   ]
  },
  {
   "cell_type": "code",
   "execution_count": 35,
   "metadata": {},
   "outputs": [],
   "source": [
    "merged_data = fbref_data.merge(tm_data.loc[:,['external_key','Pos', 'Height', 'Foot', 'MarketValue']],\n",
    "                              on='external_key',\n",
    "                              how='inner',\n",
    "                              suffixes=('_fbref', '_tm'))"
   ]
  },
  {
   "cell_type": "code",
   "execution_count": 36,
   "metadata": {},
   "outputs": [],
   "source": [
    "merged_data['Height'] = merged_data['Height'].apply(lambda x: int(x.replace(' m', '').replace(',', '')))\n",
    "merged_data['Foot'] = merged_data['Foot'].apply(lambda x: 1 if x == 'right' else 0)\n",
    "merged_data.rename(columns={'Foot': 'RightFoot'}, inplace=True)\n",
    "# Wage STILL TO DO"
   ]
  },
  {
   "cell_type": "code",
   "execution_count": 37,
   "metadata": {},
   "outputs": [],
   "source": [
    "merged_data.drop(columns=['NormalizedPlayer', 'matched_key', 'external_key'], inplace=True)"
   ]
  },
  {
   "cell_type": "code",
   "execution_count": 38,
   "metadata": {},
   "outputs": [
    {
     "data": {
      "text/plain": [
       "(5639, 104)"
      ]
     },
     "execution_count": 38,
     "metadata": {},
     "output_type": "execute_result"
    }
   ],
   "source": [
    "merged_data.shape"
   ]
  },
  {
   "cell_type": "markdown",
   "metadata": {},
   "source": [
    "### Integration of `clubelo`"
   ]
  },
  {
   "cell_type": "code",
   "execution_count": 39,
   "metadata": {},
   "outputs": [
    {
     "data": {
      "text/plain": [
       "(4541, 104)"
      ]
     },
     "execution_count": 39,
     "metadata": {},
     "output_type": "execute_result"
    }
   ],
   "source": [
    "merged_data = merged_data[~ (merged_data['League'].isin(['Major League Soccer','Liga MX','Campeonato Brasileiro Série A'])) ]\n",
    "merged_data.shape"
   ]
  },
  {
   "cell_type": "markdown",
   "metadata": {},
   "source": [
    "**NOTE**: in this case we did not rely on *Jaro Winkler* distance, we did a manual mapping of the teams."
   ]
  },
  {
   "cell_type": "code",
   "execution_count": 40,
   "metadata": {},
   "outputs": [],
   "source": [
    "league_elo = {\n",
    "    'Premier League'        : {'Country' : 'ENG', 'Level' : 1},          \n",
    "    'Championship'          : {'Country' : 'ENG', 'Level' : 2},                  \n",
    "    'Serie A'               : {'Country' : 'ITA', 'Level' : 1},  \n",
    "    'Serie B'               : {'Country' : 'ITA', 'Level' : 2},  \n",
    "    'La Liga'               : {'Country' : 'ESP', 'Level' : 1},  \n",
    "    'La Liga 2'             : {'Country' : 'ESP', 'Level' : 2},  \n",
    "    'Bundesliga'            : {'Country' : 'GER', 'Level' : 1},  \n",
    "    'Bundesliga 2'          : {'Country' : 'GER', 'Level' : 2},  \n",
    "    'Ligue 1'               : {'Country' : 'FRA', 'Level' : 1},  \n",
    "    'Ligue 2'               : {'Country' : 'FRA', 'Level' : 2},  \n",
    "    'Eredivisie'            : {'Country' : 'NED', 'Level' : 1},  \n",
    "    'Belgian Pro League'    : {'Country' : 'BEL', 'Level' : 1},  \n",
    "    'Primeira Liga'         : {'Country' : 'POR', 'Level' : 1}\n",
    "}\n",
    "\n",
    "team_name_mapping = {\n",
    "    # English Premier League\n",
    "    'Forest': \"Nott'ham Forest\",\n",
    "    'Luton': 'Luton Town',\n",
    "    'Man City': 'Manchester City',\n",
    "    'Man United': 'Manchester Utd',\n",
    "    'Newcastle': 'Newcastle Utd',\n",
    "    'Sheffield United': 'Sheffield Utd',\n",
    "    \n",
    "    # English Championship\n",
    "    'Birmingham': 'Birmingham City',\n",
    "    'Cardiff': 'Cardiff City',\n",
    "    'Coventry': 'Coventry City',\n",
    "    'Hull': 'Hull City',\n",
    "    'Ipswich': 'Ipswich Town',\n",
    "    'Leeds': 'Leeds United',\n",
    "    'Leicester': 'Leicester City',\n",
    "    'Norwich': 'Norwich City',\n",
    "    'Plymouth': 'Plymouth Argyle',\n",
    "    'Rotherham': 'Rotherham Utd',\n",
    "    'Stoke': 'Stoke City',\n",
    "    'Swansea': 'Swansea City',\n",
    "    \n",
    "    # Italian Serie A\n",
    "    'Verona': 'Hellas Verona',\n",
    "    \n",
    "    # Italian Serie B\n",
    "    'Lecco': 'Calcio Lecco 1912',\n",
    "    'Feralpisalo': 'FeralpiSalò',\n",
    "    'Suedtirol': 'Südtirol',\n",
    "    \n",
    "    # Spanish La Liga\n",
    "    'Alaves': 'Alavés',\n",
    "    'Almeria': 'Almería',\n",
    "    'Atletico': 'Atlético Madrid',\n",
    "    'Bilbao': 'Athletic Club',\n",
    "    'Celta': 'Celta Vigo',\n",
    "    'Cadiz': 'Cádiz',\n",
    "    'Sociedad': 'Real Sociedad',\n",
    "    \n",
    "    # Spanish Segunda División\n",
    "    'Alcorcon': 'Alcorcón',\n",
    "    'Andorra CF': 'FC Andorra',\n",
    "    'Gijon': 'Sporting Gijón',\n",
    "    'Mirandes': 'CD Mirandés',\n",
    "    'Ferrol': 'Racing Ferrol',\n",
    "    'Leganes': 'Leganés',\n",
    "    'Santander' : 'Racing Sant',\n",
    "    \n",
    "    # German Bundesliga\n",
    "    'Bayern': 'Bayern Munich',\n",
    "    'Darmstadt': 'Darmstadt 98',\n",
    "    'Frankfurt': 'Eint Frankfurt',\n",
    "    'Koeln': 'Köln',\n",
    "    'Mainz': 'Mainz 05',\n",
    "    'Werder': 'Werder Bremen',\n",
    "    \n",
    "    # German 2. Bundesliga\n",
    "    'Duesseldorf': 'Düsseldorf',\n",
    "    'Fuerth': 'Greuther Fürth',\n",
    "    'Hamburg': 'Hamburger SV',\n",
    "    'Hannover': 'Hannover 96',\n",
    "    'Hertha': 'Hertha BSC',\n",
    "    'Holstein': 'Holstein Kiel',\n",
    "    'Karlsruhe': 'Karlsruher',\n",
    "    'Lautern': 'Kaiserslautern',\n",
    "    'Nuernberg': 'Nürnberg',\n",
    "    'Osnabrueck': 'Osnabrück',\n",
    "    'Paderborn': 'Paderborn 07',\n",
    "    'Rostock': 'Hansa Rostock',\n",
    "    'Schalke': 'Schalke 04',\n",
    "    'St Pauli': 'St. Pauli',\n",
    "    \n",
    "    # French Ligue 1\n",
    "    'Clermont': 'Clermont Foot',\n",
    "    'Paris SG': 'Paris S-G',\n",
    "    \n",
    "    # French Ligue 2\n",
    "    'US Quevilly': 'Quevilly-Rouen',\n",
    "    'Concarneau': 'US Concarneau',\n",
    "    'Pau': 'Pau FC',\n",
    "    'Saint-Etienne': 'Saint-Étienne',\n",
    "    'Laval' : 'Stade Laval',\n",
    "    'Rodez' : 'Rodez Aveyron',\n",
    "    \n",
    "    # Dutch Eredivisie\n",
    "    'Alkmaar': 'AZ Alkmaar',\n",
    "    'Almere': 'Almere City',\n",
    "    'Go Ahead Eagles': 'Go Ahead Eag',\n",
    "    'Heracles': 'Heracles Almelo',\n",
    "    'Nijmegen': 'NEC Nijmegen',\n",
    "    'PSV': 'PSV Eindhoven',\n",
    "    'Sittard': 'Fortuna Sittard',\n",
    "    'Sparta Rotterdam': \"Sparta R'dam\",\n",
    "    'Waalwijk': 'RKC Waalwijk',\n",
    "\n",
    "    # Belgian Pro League\n",
    "    'Brugge': 'Club Brugge',\n",
    "    'Leuven': 'OH Leuven',\n",
    "    'Molenbeek': 'RWD Molenbeek',\n",
    "    'St Gillis': 'Union SG',\n",
    "    'St Truiden': 'Sint-Truiden',\n",
    "    'Standard': 'Standard Liège',\n",
    "\n",
    "    # Portuguese Primeira Liga\n",
    "    'Estrela Amadora': 'Estrela',\n",
    "    'Famalicao': 'Famalicão',\n",
    "    'Guimaraes': 'Vitória',\n",
    "    'Sporting': 'Sporting CP',\n",
    "    'Gil Vicente': 'Gil Vicente FC',\n",
    "}"
   ]
  },
  {
   "cell_type": "code",
   "execution_count": 41,
   "metadata": {},
   "outputs": [],
   "source": [
    "elo_df = pd.read_csv('data/Clubelo/clubelo_2024-01-01.csv')"
   ]
  },
  {
   "cell_type": "code",
   "execution_count": 42,
   "metadata": {},
   "outputs": [],
   "source": [
    "elo_df['Club'] = elo_df['Club'].apply(lambda x : team_name_mapping[x] if x in team_name_mapping else x)"
   ]
  },
  {
   "cell_type": "code",
   "execution_count": 43,
   "metadata": {},
   "outputs": [],
   "source": [
    "# merged_data['SquadRank']  = merged_data.apply(lambda x : elo_df[elo_df['Club'] == x['Squad']]['Elo'].values[0], axis=1)\n",
    "# # I want the values merged_data.groupby('League').agg({'SquadRank' : 'mean'}) to be added as new co in merged data\n",
    "# merged_data['LeagueRank'] = merged_data.groupby('League')['SquadRank'].transform('mean')"
   ]
  },
  {
   "cell_type": "code",
   "execution_count": 44,
   "metadata": {},
   "outputs": [],
   "source": [
    "\n",
    "league_rank_df = elo_df.groupby(['Country','Level']).agg({'Elo' : 'mean'}).reset_index()\n",
    "merged_data['LeagueRank'] = merged_data.apply(lambda x : league_rank_df[(league_rank_df['Country'] == league_elo[x['League']]['Country']) & (league_rank_df['Level'] == league_elo[x['League']]['Level'])]['Elo'].values[0], axis=1)\n",
    "merged_data['SquadRank']  = merged_data.apply(lambda x : elo_df[elo_df['Club'] == x['Squad']]['Elo'].values[0], axis=1)"
   ]
  },
  {
   "cell_type": "code",
   "execution_count": 45,
   "metadata": {},
   "outputs": [
    {
     "data": {
      "text/plain": [
       "(4541, 106)"
      ]
     },
     "execution_count": 45,
     "metadata": {},
     "output_type": "execute_result"
    }
   ],
   "source": [
    "merged_data.shape"
   ]
  },
  {
   "cell_type": "markdown",
   "metadata": {},
   "source": [
    "Here's the final dataset for our analysis:"
   ]
  },
  {
   "cell_type": "code",
   "execution_count": 46,
   "metadata": {},
   "outputs": [
    {
     "data": {
      "text/html": [
       "<div>\n",
       "<style scoped>\n",
       "    .dataframe tbody tr th:only-of-type {\n",
       "        vertical-align: middle;\n",
       "    }\n",
       "\n",
       "    .dataframe tbody tr th {\n",
       "        vertical-align: top;\n",
       "    }\n",
       "\n",
       "    .dataframe thead th {\n",
       "        text-align: right;\n",
       "    }\n",
       "</style>\n",
       "<table border=\"1\" class=\"dataframe\">\n",
       "  <thead>\n",
       "    <tr style=\"text-align: right;\">\n",
       "      <th></th>\n",
       "      <th>Player</th>\n",
       "      <th>Nation</th>\n",
       "      <th>Pos_fbref</th>\n",
       "      <th>Squad</th>\n",
       "      <th>League</th>\n",
       "      <th>Age</th>\n",
       "      <th>Born</th>\n",
       "      <th>90s</th>\n",
       "      <th>Standard_Sh/90</th>\n",
       "      <th>Standard_SoT/90</th>\n",
       "      <th>...</th>\n",
       "      <th>Performance_Crs/90</th>\n",
       "      <th>Performance_Int/90</th>\n",
       "      <th>Aerial_Duels_Won/90</th>\n",
       "      <th>Aerial_Duels_Lost/90</th>\n",
       "      <th>Pos_tm</th>\n",
       "      <th>Height</th>\n",
       "      <th>RightFoot</th>\n",
       "      <th>MarketValue</th>\n",
       "      <th>LeagueRank</th>\n",
       "      <th>SquadRank</th>\n",
       "    </tr>\n",
       "  </thead>\n",
       "  <tbody>\n",
       "    <tr>\n",
       "      <th>0</th>\n",
       "      <td>Max Aarons</td>\n",
       "      <td>eng ENG</td>\n",
       "      <td>DF</td>\n",
       "      <td>Bournemouth</td>\n",
       "      <td>Premier League</td>\n",
       "      <td>23.0</td>\n",
       "      <td>2000.0</td>\n",
       "      <td>13.7</td>\n",
       "      <td>0.15</td>\n",
       "      <td>0.00</td>\n",
       "      <td>...</td>\n",
       "      <td>0.948905</td>\n",
       "      <td>0.583942</td>\n",
       "      <td>0.364964</td>\n",
       "      <td>0.802920</td>\n",
       "      <td>Right-Back</td>\n",
       "      <td>177</td>\n",
       "      <td>1</td>\n",
       "      <td>€16.00m</td>\n",
       "      <td>1772.013940</td>\n",
       "      <td>1711.891602</td>\n",
       "    </tr>\n",
       "    <tr>\n",
       "      <th>1</th>\n",
       "      <td>Tosin Adarabioyo</td>\n",
       "      <td>eng ENG</td>\n",
       "      <td>DF</td>\n",
       "      <td>Fulham</td>\n",
       "      <td>Premier League</td>\n",
       "      <td>25.0</td>\n",
       "      <td>1997.0</td>\n",
       "      <td>18.0</td>\n",
       "      <td>0.78</td>\n",
       "      <td>0.28</td>\n",
       "      <td>...</td>\n",
       "      <td>0.055556</td>\n",
       "      <td>1.388889</td>\n",
       "      <td>3.111111</td>\n",
       "      <td>1.555556</td>\n",
       "      <td>Centre-Back</td>\n",
       "      <td>197</td>\n",
       "      <td>1</td>\n",
       "      <td>€20.00m</td>\n",
       "      <td>1772.013940</td>\n",
       "      <td>1717.380493</td>\n",
       "    </tr>\n",
       "    <tr>\n",
       "      <th>2</th>\n",
       "      <td>Simon Adingra</td>\n",
       "      <td>ci CIV</td>\n",
       "      <td>FW</td>\n",
       "      <td>Brighton</td>\n",
       "      <td>Premier League</td>\n",
       "      <td>21.0</td>\n",
       "      <td>2002.0</td>\n",
       "      <td>24.7</td>\n",
       "      <td>2.11</td>\n",
       "      <td>0.89</td>\n",
       "      <td>...</td>\n",
       "      <td>3.076923</td>\n",
       "      <td>0.769231</td>\n",
       "      <td>0.323887</td>\n",
       "      <td>0.485830</td>\n",
       "      <td>Left Winger</td>\n",
       "      <td>175</td>\n",
       "      <td>1</td>\n",
       "      <td>€30.00m</td>\n",
       "      <td>1772.013940</td>\n",
       "      <td>1820.636597</td>\n",
       "    </tr>\n",
       "    <tr>\n",
       "      <th>3</th>\n",
       "      <td>Nayef Aguerd</td>\n",
       "      <td>ma MAR</td>\n",
       "      <td>DF</td>\n",
       "      <td>West Ham</td>\n",
       "      <td>Premier League</td>\n",
       "      <td>27.0</td>\n",
       "      <td>1996.0</td>\n",
       "      <td>20.6</td>\n",
       "      <td>0.68</td>\n",
       "      <td>0.15</td>\n",
       "      <td>...</td>\n",
       "      <td>0.242718</td>\n",
       "      <td>0.825243</td>\n",
       "      <td>2.330097</td>\n",
       "      <td>1.553398</td>\n",
       "      <td>Centre-Back</td>\n",
       "      <td>190</td>\n",
       "      <td>0</td>\n",
       "      <td>€35.00m</td>\n",
       "      <td>1772.013940</td>\n",
       "      <td>1808.972168</td>\n",
       "    </tr>\n",
       "    <tr>\n",
       "      <th>4</th>\n",
       "      <td>Anel Ahmedhodžić</td>\n",
       "      <td>ba BIH</td>\n",
       "      <td>DF</td>\n",
       "      <td>Sheffield Utd</td>\n",
       "      <td>Premier League</td>\n",
       "      <td>24.0</td>\n",
       "      <td>1999.0</td>\n",
       "      <td>29.4</td>\n",
       "      <td>0.65</td>\n",
       "      <td>0.17</td>\n",
       "      <td>...</td>\n",
       "      <td>0.204082</td>\n",
       "      <td>1.156463</td>\n",
       "      <td>1.768707</td>\n",
       "      <td>1.224490</td>\n",
       "      <td>Centre-Back</td>\n",
       "      <td>190</td>\n",
       "      <td>1</td>\n",
       "      <td>€18.00m</td>\n",
       "      <td>1772.013940</td>\n",
       "      <td>1580.956055</td>\n",
       "    </tr>\n",
       "    <tr>\n",
       "      <th>...</th>\n",
       "      <td>...</td>\n",
       "      <td>...</td>\n",
       "      <td>...</td>\n",
       "      <td>...</td>\n",
       "      <td>...</td>\n",
       "      <td>...</td>\n",
       "      <td>...</td>\n",
       "      <td>...</td>\n",
       "      <td>...</td>\n",
       "      <td>...</td>\n",
       "      <td>...</td>\n",
       "      <td>...</td>\n",
       "      <td>...</td>\n",
       "      <td>...</td>\n",
       "      <td>...</td>\n",
       "      <td>...</td>\n",
       "      <td>...</td>\n",
       "      <td>...</td>\n",
       "      <td>...</td>\n",
       "      <td>...</td>\n",
       "      <td>...</td>\n",
       "    </tr>\n",
       "    <tr>\n",
       "      <th>4536</th>\n",
       "      <td>Bruno Wilson</td>\n",
       "      <td>pt POR</td>\n",
       "      <td>DF</td>\n",
       "      <td>Vizela</td>\n",
       "      <td>Primeira Liga</td>\n",
       "      <td>26.0</td>\n",
       "      <td>1996.0</td>\n",
       "      <td>15.6</td>\n",
       "      <td>1.02</td>\n",
       "      <td>0.26</td>\n",
       "      <td>...</td>\n",
       "      <td>0.320513</td>\n",
       "      <td>1.217949</td>\n",
       "      <td>2.051282</td>\n",
       "      <td>1.794872</td>\n",
       "      <td>Centre-Back</td>\n",
       "      <td>192</td>\n",
       "      <td>1</td>\n",
       "      <td>€800k</td>\n",
       "      <td>1502.914856</td>\n",
       "      <td>1407.074097</td>\n",
       "    </tr>\n",
       "    <tr>\n",
       "      <th>4537</th>\n",
       "      <td>Zaydou Youssouf</td>\n",
       "      <td>km COM</td>\n",
       "      <td>MF</td>\n",
       "      <td>Famalicão</td>\n",
       "      <td>Primeira Liga</td>\n",
       "      <td>24.0</td>\n",
       "      <td>1999.0</td>\n",
       "      <td>30.7</td>\n",
       "      <td>1.04</td>\n",
       "      <td>0.33</td>\n",
       "      <td>...</td>\n",
       "      <td>1.270358</td>\n",
       "      <td>0.879479</td>\n",
       "      <td>0.521173</td>\n",
       "      <td>0.456026</td>\n",
       "      <td>Central Midfield</td>\n",
       "      <td>182</td>\n",
       "      <td>0</td>\n",
       "      <td>€7.00m</td>\n",
       "      <td>1502.914856</td>\n",
       "      <td>1473.295410</td>\n",
       "    </tr>\n",
       "    <tr>\n",
       "      <th>4538</th>\n",
       "      <td>Rodrigo Zalazar</td>\n",
       "      <td>uy URU</td>\n",
       "      <td>MF</td>\n",
       "      <td>Braga</td>\n",
       "      <td>Primeira Liga</td>\n",
       "      <td>23.0</td>\n",
       "      <td>1999.0</td>\n",
       "      <td>20.2</td>\n",
       "      <td>2.33</td>\n",
       "      <td>0.84</td>\n",
       "      <td>...</td>\n",
       "      <td>6.237624</td>\n",
       "      <td>0.445545</td>\n",
       "      <td>0.990099</td>\n",
       "      <td>1.287129</td>\n",
       "      <td>Central Midfield</td>\n",
       "      <td>178</td>\n",
       "      <td>1</td>\n",
       "      <td>€16.00m</td>\n",
       "      <td>1502.914856</td>\n",
       "      <td>1670.506836</td>\n",
       "    </tr>\n",
       "    <tr>\n",
       "      <th>4539</th>\n",
       "      <td>Nermin Zolotić</td>\n",
       "      <td>ba BIH</td>\n",
       "      <td>DF</td>\n",
       "      <td>Casa Pia</td>\n",
       "      <td>Primeira Liga</td>\n",
       "      <td>30.0</td>\n",
       "      <td>1993.0</td>\n",
       "      <td>29.7</td>\n",
       "      <td>0.27</td>\n",
       "      <td>0.10</td>\n",
       "      <td>...</td>\n",
       "      <td>0.134680</td>\n",
       "      <td>0.942761</td>\n",
       "      <td>1.548822</td>\n",
       "      <td>1.245791</td>\n",
       "      <td>Centre-Back</td>\n",
       "      <td>189</td>\n",
       "      <td>0</td>\n",
       "      <td>€600k</td>\n",
       "      <td>1502.914856</td>\n",
       "      <td>1411.265625</td>\n",
       "    </tr>\n",
       "    <tr>\n",
       "      <th>5557</th>\n",
       "      <td>Ricardo</td>\n",
       "      <td>br BRA</td>\n",
       "      <td>MF</td>\n",
       "      <td>Vitória</td>\n",
       "      <td>Primeira Liga</td>\n",
       "      <td>29.0</td>\n",
       "      <td>1994.0</td>\n",
       "      <td>11.6</td>\n",
       "      <td>1.04</td>\n",
       "      <td>0.09</td>\n",
       "      <td>...</td>\n",
       "      <td>0.689655</td>\n",
       "      <td>1.034483</td>\n",
       "      <td>1.120690</td>\n",
       "      <td>1.637931</td>\n",
       "      <td>Left Winger</td>\n",
       "      <td>173</td>\n",
       "      <td>1</td>\n",
       "      <td>€12.00m</td>\n",
       "      <td>1502.914856</td>\n",
       "      <td>1538.345093</td>\n",
       "    </tr>\n",
       "  </tbody>\n",
       "</table>\n",
       "<p>4541 rows × 106 columns</p>\n",
       "</div>"
      ],
      "text/plain": [
       "                Player   Nation Pos_fbref          Squad          League  \\\n",
       "0           Max Aarons  eng ENG        DF    Bournemouth  Premier League   \n",
       "1     Tosin Adarabioyo  eng ENG        DF         Fulham  Premier League   \n",
       "2        Simon Adingra   ci CIV        FW       Brighton  Premier League   \n",
       "3         Nayef Aguerd   ma MAR        DF       West Ham  Premier League   \n",
       "4     Anel Ahmedhodžić   ba BIH        DF  Sheffield Utd  Premier League   \n",
       "...                ...      ...       ...            ...             ...   \n",
       "4536      Bruno Wilson   pt POR        DF         Vizela   Primeira Liga   \n",
       "4537   Zaydou Youssouf   km COM        MF      Famalicão   Primeira Liga   \n",
       "4538   Rodrigo Zalazar   uy URU        MF          Braga   Primeira Liga   \n",
       "4539    Nermin Zolotić   ba BIH        DF       Casa Pia   Primeira Liga   \n",
       "5557           Ricardo   br BRA        MF        Vitória   Primeira Liga   \n",
       "\n",
       "       Age    Born   90s  Standard_Sh/90  Standard_SoT/90  ...  \\\n",
       "0     23.0  2000.0  13.7            0.15             0.00  ...   \n",
       "1     25.0  1997.0  18.0            0.78             0.28  ...   \n",
       "2     21.0  2002.0  24.7            2.11             0.89  ...   \n",
       "3     27.0  1996.0  20.6            0.68             0.15  ...   \n",
       "4     24.0  1999.0  29.4            0.65             0.17  ...   \n",
       "...    ...     ...   ...             ...              ...  ...   \n",
       "4536  26.0  1996.0  15.6            1.02             0.26  ...   \n",
       "4537  24.0  1999.0  30.7            1.04             0.33  ...   \n",
       "4538  23.0  1999.0  20.2            2.33             0.84  ...   \n",
       "4539  30.0  1993.0  29.7            0.27             0.10  ...   \n",
       "5557  29.0  1994.0  11.6            1.04             0.09  ...   \n",
       "\n",
       "      Performance_Crs/90  Performance_Int/90  Aerial_Duels_Won/90  \\\n",
       "0               0.948905            0.583942             0.364964   \n",
       "1               0.055556            1.388889             3.111111   \n",
       "2               3.076923            0.769231             0.323887   \n",
       "3               0.242718            0.825243             2.330097   \n",
       "4               0.204082            1.156463             1.768707   \n",
       "...                  ...                 ...                  ...   \n",
       "4536            0.320513            1.217949             2.051282   \n",
       "4537            1.270358            0.879479             0.521173   \n",
       "4538            6.237624            0.445545             0.990099   \n",
       "4539            0.134680            0.942761             1.548822   \n",
       "5557            0.689655            1.034483             1.120690   \n",
       "\n",
       "      Aerial_Duels_Lost/90            Pos_tm  Height  RightFoot  MarketValue  \\\n",
       "0                 0.802920        Right-Back     177          1      €16.00m   \n",
       "1                 1.555556       Centre-Back     197          1      €20.00m   \n",
       "2                 0.485830       Left Winger     175          1      €30.00m   \n",
       "3                 1.553398       Centre-Back     190          0      €35.00m   \n",
       "4                 1.224490       Centre-Back     190          1      €18.00m   \n",
       "...                    ...               ...     ...        ...          ...   \n",
       "4536              1.794872       Centre-Back     192          1        €800k   \n",
       "4537              0.456026  Central Midfield     182          0       €7.00m   \n",
       "4538              1.287129  Central Midfield     178          1      €16.00m   \n",
       "4539              1.245791       Centre-Back     189          0        €600k   \n",
       "5557              1.637931       Left Winger     173          1      €12.00m   \n",
       "\n",
       "       LeagueRank    SquadRank  \n",
       "0     1772.013940  1711.891602  \n",
       "1     1772.013940  1717.380493  \n",
       "2     1772.013940  1820.636597  \n",
       "3     1772.013940  1808.972168  \n",
       "4     1772.013940  1580.956055  \n",
       "...           ...          ...  \n",
       "4536  1502.914856  1407.074097  \n",
       "4537  1502.914856  1473.295410  \n",
       "4538  1502.914856  1670.506836  \n",
       "4539  1502.914856  1411.265625  \n",
       "5557  1502.914856  1538.345093  \n",
       "\n",
       "[4541 rows x 106 columns]"
      ]
     },
     "execution_count": 46,
     "metadata": {},
     "output_type": "execute_result"
    }
   ],
   "source": [
    "merged_data"
   ]
  },
  {
   "cell_type": "code",
   "execution_count": 47,
   "metadata": {},
   "outputs": [],
   "source": [
    "merged_data.to_csv('data/training_dataset.csv', index=False)"
   ]
  }
 ],
 "metadata": {
  "kernelspec": {
   "display_name": "Python 3",
   "language": "python",
   "name": "python3"
  },
  "language_info": {
   "codemirror_mode": {
    "name": "ipython",
    "version": 3
   },
   "file_extension": ".py",
   "mimetype": "text/x-python",
   "name": "python",
   "nbconvert_exporter": "python",
   "pygments_lexer": "ipython3",
   "version": "3.12.1"
  }
 },
 "nbformat": 4,
 "nbformat_minor": 2
}
